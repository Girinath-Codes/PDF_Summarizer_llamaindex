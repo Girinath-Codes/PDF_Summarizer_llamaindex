{
  "cells": [
    {
      "cell_type": "markdown",
      "metadata": {
        "id": "view-in-github",
        "colab_type": "text"
      },
      "source": [
        "<a href=\"https://colab.research.google.com/github/Girinath-Codes/PDF_Summarizer_llamaindex/blob/develop/Doc_summarizer_llamaindex.ipynb\" target=\"_parent\"><img src=\"https://colab.research.google.com/assets/colab-badge.svg\" alt=\"Open In Colab\"/></a>"
      ]
    },
    {
      "cell_type": "code",
      "execution_count": 1,
      "id": "cc216d7d-01f4-40ba-8d52-e7c629707ef0",
      "metadata": {
        "id": "cc216d7d-01f4-40ba-8d52-e7c629707ef0",
        "outputId": "62bf5203-e426-443a-d3f3-65f6495211ca",
        "colab": {
          "base_uri": "https://localhost:8080/"
        }
      },
      "outputs": [
        {
          "output_type": "stream",
          "name": "stdout",
          "text": [
            "Collecting llama-index\n",
            "  Downloading llama_index-0.12.39-py3-none-any.whl.metadata (12 kB)\n",
            "Collecting llama-index-llms-groq\n",
            "  Downloading llama_index_llms_groq-0.3.2-py3-none-any.whl.metadata (2.0 kB)\n",
            "Collecting llama-index-embeddings-huggingface\n",
            "  Downloading llama_index_embeddings_huggingface-0.5.4-py3-none-any.whl.metadata (458 bytes)\n",
            "Collecting llama-index-agent-openai<0.5,>=0.4.0 (from llama-index)\n",
            "  Downloading llama_index_agent_openai-0.4.9-py3-none-any.whl.metadata (438 bytes)\n",
            "Collecting llama-index-cli<0.5,>=0.4.1 (from llama-index)\n",
            "  Downloading llama_index_cli-0.4.2-py3-none-any.whl.metadata (1.6 kB)\n",
            "Collecting llama-index-core<0.13,>=0.12.39 (from llama-index)\n",
            "  Downloading llama_index_core-0.12.39-py3-none-any.whl.metadata (2.4 kB)\n",
            "Collecting llama-index-embeddings-openai<0.4,>=0.3.0 (from llama-index)\n",
            "  Downloading llama_index_embeddings_openai-0.3.1-py3-none-any.whl.metadata (684 bytes)\n",
            "Collecting llama-index-indices-managed-llama-cloud>=0.4.0 (from llama-index)\n",
            "  Downloading llama_index_indices_managed_llama_cloud-0.7.2-py3-none-any.whl.metadata (3.3 kB)\n",
            "Collecting llama-index-llms-openai<0.5,>=0.4.0 (from llama-index)\n",
            "  Downloading llama_index_llms_openai-0.4.0-py3-none-any.whl.metadata (3.0 kB)\n",
            "Collecting llama-index-multi-modal-llms-openai<0.6,>=0.5.0 (from llama-index)\n",
            "  Downloading llama_index_multi_modal_llms_openai-0.5.1-py3-none-any.whl.metadata (440 bytes)\n",
            "Collecting llama-index-program-openai<0.4,>=0.3.0 (from llama-index)\n",
            "  Downloading llama_index_program_openai-0.3.2-py3-none-any.whl.metadata (473 bytes)\n",
            "Collecting llama-index-question-gen-openai<0.4,>=0.3.0 (from llama-index)\n",
            "  Downloading llama_index_question_gen_openai-0.3.1-py3-none-any.whl.metadata (492 bytes)\n",
            "Collecting llama-index-readers-file<0.5,>=0.4.0 (from llama-index)\n",
            "  Downloading llama_index_readers_file-0.4.8-py3-none-any.whl.metadata (5.2 kB)\n",
            "Collecting llama-index-readers-llama-parse>=0.4.0 (from llama-index)\n",
            "  Downloading llama_index_readers_llama_parse-0.4.0-py3-none-any.whl.metadata (3.6 kB)\n",
            "Requirement already satisfied: nltk>3.8.1 in /usr/local/lib/python3.11/dist-packages (from llama-index) (3.9.1)\n",
            "Collecting llama-index-llms-openai-like<0.5,>=0.4.0 (from llama-index-llms-groq)\n",
            "  Downloading llama_index_llms_openai_like-0.4.0-py3-none-any.whl.metadata (1.1 kB)\n",
            "Requirement already satisfied: huggingface-hub>=0.19.0 in /usr/local/lib/python3.11/dist-packages (from huggingface-hub[inference]>=0.19.0->llama-index-embeddings-huggingface) (0.31.4)\n",
            "Requirement already satisfied: sentence-transformers>=2.6.1 in /usr/local/lib/python3.11/dist-packages (from llama-index-embeddings-huggingface) (4.1.0)\n",
            "Requirement already satisfied: filelock in /usr/local/lib/python3.11/dist-packages (from huggingface-hub>=0.19.0->huggingface-hub[inference]>=0.19.0->llama-index-embeddings-huggingface) (3.18.0)\n",
            "Requirement already satisfied: fsspec>=2023.5.0 in /usr/local/lib/python3.11/dist-packages (from huggingface-hub>=0.19.0->huggingface-hub[inference]>=0.19.0->llama-index-embeddings-huggingface) (2025.3.2)\n",
            "Requirement already satisfied: packaging>=20.9 in /usr/local/lib/python3.11/dist-packages (from huggingface-hub>=0.19.0->huggingface-hub[inference]>=0.19.0->llama-index-embeddings-huggingface) (24.2)\n",
            "Requirement already satisfied: pyyaml>=5.1 in /usr/local/lib/python3.11/dist-packages (from huggingface-hub>=0.19.0->huggingface-hub[inference]>=0.19.0->llama-index-embeddings-huggingface) (6.0.2)\n",
            "Requirement already satisfied: requests in /usr/local/lib/python3.11/dist-packages (from huggingface-hub>=0.19.0->huggingface-hub[inference]>=0.19.0->llama-index-embeddings-huggingface) (2.32.3)\n",
            "Requirement already satisfied: tqdm>=4.42.1 in /usr/local/lib/python3.11/dist-packages (from huggingface-hub>=0.19.0->huggingface-hub[inference]>=0.19.0->llama-index-embeddings-huggingface) (4.67.1)\n",
            "Requirement already satisfied: typing-extensions>=3.7.4.3 in /usr/local/lib/python3.11/dist-packages (from huggingface-hub>=0.19.0->huggingface-hub[inference]>=0.19.0->llama-index-embeddings-huggingface) (4.13.2)\n",
            "Requirement already satisfied: aiohttp in /usr/local/lib/python3.11/dist-packages (from huggingface-hub[inference]>=0.19.0->llama-index-embeddings-huggingface) (3.11.15)\n",
            "Requirement already satisfied: openai>=1.14.0 in /usr/local/lib/python3.11/dist-packages (from llama-index-agent-openai<0.5,>=0.4.0->llama-index) (1.81.0)\n",
            "Collecting aiosqlite (from llama-index-core<0.13,>=0.12.39->llama-index)\n",
            "  Downloading aiosqlite-0.21.0-py3-none-any.whl.metadata (4.3 kB)\n",
            "Collecting banks<3,>=2.0.0 (from llama-index-core<0.13,>=0.12.39->llama-index)\n",
            "  Downloading banks-2.1.2-py3-none-any.whl.metadata (12 kB)\n",
            "Collecting dataclasses-json (from llama-index-core<0.13,>=0.12.39->llama-index)\n",
            "  Downloading dataclasses_json-0.6.7-py3-none-any.whl.metadata (25 kB)\n",
            "Collecting deprecated>=1.2.9.3 (from llama-index-core<0.13,>=0.12.39->llama-index)\n",
            "  Downloading Deprecated-1.2.18-py2.py3-none-any.whl.metadata (5.7 kB)\n",
            "Collecting dirtyjson<2,>=1.0.8 (from llama-index-core<0.13,>=0.12.39->llama-index)\n",
            "  Downloading dirtyjson-1.0.8-py3-none-any.whl.metadata (11 kB)\n",
            "Collecting filetype<2,>=1.2.0 (from llama-index-core<0.13,>=0.12.39->llama-index)\n",
            "  Downloading filetype-1.2.0-py2.py3-none-any.whl.metadata (6.5 kB)\n",
            "Requirement already satisfied: httpx in /usr/local/lib/python3.11/dist-packages (from llama-index-core<0.13,>=0.12.39->llama-index) (0.28.1)\n",
            "Requirement already satisfied: nest-asyncio<2,>=1.5.8 in /usr/local/lib/python3.11/dist-packages (from llama-index-core<0.13,>=0.12.39->llama-index) (1.6.0)\n",
            "Requirement already satisfied: networkx>=3.0 in /usr/local/lib/python3.11/dist-packages (from llama-index-core<0.13,>=0.12.39->llama-index) (3.4.2)\n",
            "Requirement already satisfied: numpy in /usr/local/lib/python3.11/dist-packages (from llama-index-core<0.13,>=0.12.39->llama-index) (2.0.2)\n",
            "Requirement already satisfied: pillow>=9.0.0 in /usr/local/lib/python3.11/dist-packages (from llama-index-core<0.13,>=0.12.39->llama-index) (11.2.1)\n",
            "Requirement already satisfied: pydantic>=2.8.0 in /usr/local/lib/python3.11/dist-packages (from llama-index-core<0.13,>=0.12.39->llama-index) (2.11.4)\n",
            "Requirement already satisfied: sqlalchemy>=1.4.49 in /usr/local/lib/python3.11/dist-packages (from sqlalchemy[asyncio]>=1.4.49->llama-index-core<0.13,>=0.12.39->llama-index) (2.0.41)\n",
            "Requirement already satisfied: tenacity!=8.4.0,<10.0.0,>=8.2.0 in /usr/local/lib/python3.11/dist-packages (from llama-index-core<0.13,>=0.12.39->llama-index) (9.1.2)\n",
            "Requirement already satisfied: tiktoken>=0.7.0 in /usr/local/lib/python3.11/dist-packages (from llama-index-core<0.13,>=0.12.39->llama-index) (0.9.0)\n",
            "Collecting typing-inspect>=0.8.0 (from llama-index-core<0.13,>=0.12.39->llama-index)\n",
            "  Downloading typing_inspect-0.9.0-py3-none-any.whl.metadata (1.5 kB)\n",
            "Requirement already satisfied: wrapt in /usr/local/lib/python3.11/dist-packages (from llama-index-core<0.13,>=0.12.39->llama-index) (1.17.2)\n",
            "Collecting llama-cloud==0.1.23 (from llama-index-indices-managed-llama-cloud>=0.4.0->llama-index)\n",
            "  Downloading llama_cloud-0.1.23-py3-none-any.whl.metadata (1.1 kB)\n",
            "Requirement already satisfied: certifi>=2024.7.4 in /usr/local/lib/python3.11/dist-packages (from llama-cloud==0.1.23->llama-index-indices-managed-llama-cloud>=0.4.0->llama-index) (2025.4.26)\n",
            "Requirement already satisfied: transformers<5,>=4.37.0 in /usr/local/lib/python3.11/dist-packages (from llama-index-llms-openai-like<0.5,>=0.4.0->llama-index-llms-groq) (4.52.2)\n",
            "Requirement already satisfied: beautifulsoup4<5,>=4.12.3 in /usr/local/lib/python3.11/dist-packages (from llama-index-readers-file<0.5,>=0.4.0->llama-index) (4.13.4)\n",
            "Requirement already satisfied: pandas in /usr/local/lib/python3.11/dist-packages (from llama-index-readers-file<0.5,>=0.4.0->llama-index) (2.2.2)\n",
            "Collecting pypdf<6,>=5.1.0 (from llama-index-readers-file<0.5,>=0.4.0->llama-index)\n",
            "  Downloading pypdf-5.5.0-py3-none-any.whl.metadata (7.2 kB)\n",
            "Collecting striprtf<0.0.27,>=0.0.26 (from llama-index-readers-file<0.5,>=0.4.0->llama-index)\n",
            "  Downloading striprtf-0.0.26-py3-none-any.whl.metadata (2.1 kB)\n",
            "Collecting llama-parse>=0.5.0 (from llama-index-readers-llama-parse>=0.4.0->llama-index)\n",
            "  Downloading llama_parse-0.6.25-py3-none-any.whl.metadata (6.9 kB)\n",
            "Requirement already satisfied: click in /usr/local/lib/python3.11/dist-packages (from nltk>3.8.1->llama-index) (8.2.1)\n",
            "Requirement already satisfied: joblib in /usr/local/lib/python3.11/dist-packages (from nltk>3.8.1->llama-index) (1.5.0)\n",
            "Requirement already satisfied: regex>=2021.8.3 in /usr/local/lib/python3.11/dist-packages (from nltk>3.8.1->llama-index) (2024.11.6)\n",
            "Requirement already satisfied: torch>=1.11.0 in /usr/local/lib/python3.11/dist-packages (from sentence-transformers>=2.6.1->llama-index-embeddings-huggingface) (2.6.0+cu124)\n",
            "Requirement already satisfied: scikit-learn in /usr/local/lib/python3.11/dist-packages (from sentence-transformers>=2.6.1->llama-index-embeddings-huggingface) (1.6.1)\n",
            "Requirement already satisfied: scipy in /usr/local/lib/python3.11/dist-packages (from sentence-transformers>=2.6.1->llama-index-embeddings-huggingface) (1.15.3)\n",
            "Requirement already satisfied: aiohappyeyeballs>=2.3.0 in /usr/local/lib/python3.11/dist-packages (from aiohttp->huggingface-hub[inference]>=0.19.0->llama-index-embeddings-huggingface) (2.6.1)\n",
            "Requirement already satisfied: aiosignal>=1.1.2 in /usr/local/lib/python3.11/dist-packages (from aiohttp->huggingface-hub[inference]>=0.19.0->llama-index-embeddings-huggingface) (1.3.2)\n",
            "Requirement already satisfied: attrs>=17.3.0 in /usr/local/lib/python3.11/dist-packages (from aiohttp->huggingface-hub[inference]>=0.19.0->llama-index-embeddings-huggingface) (25.3.0)\n",
            "Requirement already satisfied: frozenlist>=1.1.1 in /usr/local/lib/python3.11/dist-packages (from aiohttp->huggingface-hub[inference]>=0.19.0->llama-index-embeddings-huggingface) (1.6.0)\n",
            "Requirement already satisfied: multidict<7.0,>=4.5 in /usr/local/lib/python3.11/dist-packages (from aiohttp->huggingface-hub[inference]>=0.19.0->llama-index-embeddings-huggingface) (6.4.4)\n",
            "Requirement already satisfied: propcache>=0.2.0 in /usr/local/lib/python3.11/dist-packages (from aiohttp->huggingface-hub[inference]>=0.19.0->llama-index-embeddings-huggingface) (0.3.1)\n",
            "Requirement already satisfied: yarl<2.0,>=1.17.0 in /usr/local/lib/python3.11/dist-packages (from aiohttp->huggingface-hub[inference]>=0.19.0->llama-index-embeddings-huggingface) (1.20.0)\n",
            "Collecting griffe (from banks<3,>=2.0.0->llama-index-core<0.13,>=0.12.39->llama-index)\n",
            "  Downloading griffe-1.7.3-py3-none-any.whl.metadata (5.0 kB)\n",
            "Requirement already satisfied: jinja2 in /usr/local/lib/python3.11/dist-packages (from banks<3,>=2.0.0->llama-index-core<0.13,>=0.12.39->llama-index) (3.1.6)\n",
            "Requirement already satisfied: platformdirs in /usr/local/lib/python3.11/dist-packages (from banks<3,>=2.0.0->llama-index-core<0.13,>=0.12.39->llama-index) (4.3.8)\n",
            "Requirement already satisfied: soupsieve>1.2 in /usr/local/lib/python3.11/dist-packages (from beautifulsoup4<5,>=4.12.3->llama-index-readers-file<0.5,>=0.4.0->llama-index) (2.7)\n",
            "Requirement already satisfied: anyio in /usr/local/lib/python3.11/dist-packages (from httpx->llama-index-core<0.13,>=0.12.39->llama-index) (4.9.0)\n",
            "Requirement already satisfied: httpcore==1.* in /usr/local/lib/python3.11/dist-packages (from httpx->llama-index-core<0.13,>=0.12.39->llama-index) (1.0.9)\n",
            "Requirement already satisfied: idna in /usr/local/lib/python3.11/dist-packages (from httpx->llama-index-core<0.13,>=0.12.39->llama-index) (3.10)\n",
            "Requirement already satisfied: h11>=0.16 in /usr/local/lib/python3.11/dist-packages (from httpcore==1.*->httpx->llama-index-core<0.13,>=0.12.39->llama-index) (0.16.0)\n",
            "Collecting llama-cloud-services>=0.6.24 (from llama-parse>=0.5.0->llama-index-readers-llama-parse>=0.4.0->llama-index)\n",
            "  Downloading llama_cloud_services-0.6.25-py3-none-any.whl.metadata (3.4 kB)\n",
            "Requirement already satisfied: distro<2,>=1.7.0 in /usr/local/lib/python3.11/dist-packages (from openai>=1.14.0->llama-index-agent-openai<0.5,>=0.4.0->llama-index) (1.9.0)\n",
            "Requirement already satisfied: jiter<1,>=0.4.0 in /usr/local/lib/python3.11/dist-packages (from openai>=1.14.0->llama-index-agent-openai<0.5,>=0.4.0->llama-index) (0.10.0)\n",
            "Requirement already satisfied: sniffio in /usr/local/lib/python3.11/dist-packages (from openai>=1.14.0->llama-index-agent-openai<0.5,>=0.4.0->llama-index) (1.3.1)\n",
            "Requirement already satisfied: annotated-types>=0.6.0 in /usr/local/lib/python3.11/dist-packages (from pydantic>=2.8.0->llama-index-core<0.13,>=0.12.39->llama-index) (0.7.0)\n",
            "Requirement already satisfied: pydantic-core==2.33.2 in /usr/local/lib/python3.11/dist-packages (from pydantic>=2.8.0->llama-index-core<0.13,>=0.12.39->llama-index) (2.33.2)\n",
            "Requirement already satisfied: typing-inspection>=0.4.0 in /usr/local/lib/python3.11/dist-packages (from pydantic>=2.8.0->llama-index-core<0.13,>=0.12.39->llama-index) (0.4.1)\n",
            "Requirement already satisfied: charset-normalizer<4,>=2 in /usr/local/lib/python3.11/dist-packages (from requests->huggingface-hub>=0.19.0->huggingface-hub[inference]>=0.19.0->llama-index-embeddings-huggingface) (3.4.2)\n",
            "Requirement already satisfied: urllib3<3,>=1.21.1 in /usr/local/lib/python3.11/dist-packages (from requests->huggingface-hub>=0.19.0->huggingface-hub[inference]>=0.19.0->llama-index-embeddings-huggingface) (2.4.0)\n",
            "Requirement already satisfied: greenlet>=1 in /usr/local/lib/python3.11/dist-packages (from sqlalchemy>=1.4.49->sqlalchemy[asyncio]>=1.4.49->llama-index-core<0.13,>=0.12.39->llama-index) (3.2.2)\n",
            "Collecting nvidia-cuda-nvrtc-cu12==12.4.127 (from torch>=1.11.0->sentence-transformers>=2.6.1->llama-index-embeddings-huggingface)\n",
            "  Downloading nvidia_cuda_nvrtc_cu12-12.4.127-py3-none-manylinux2014_x86_64.whl.metadata (1.5 kB)\n",
            "Collecting nvidia-cuda-runtime-cu12==12.4.127 (from torch>=1.11.0->sentence-transformers>=2.6.1->llama-index-embeddings-huggingface)\n",
            "  Downloading nvidia_cuda_runtime_cu12-12.4.127-py3-none-manylinux2014_x86_64.whl.metadata (1.5 kB)\n",
            "Collecting nvidia-cuda-cupti-cu12==12.4.127 (from torch>=1.11.0->sentence-transformers>=2.6.1->llama-index-embeddings-huggingface)\n",
            "  Downloading nvidia_cuda_cupti_cu12-12.4.127-py3-none-manylinux2014_x86_64.whl.metadata (1.6 kB)\n",
            "Collecting nvidia-cudnn-cu12==9.1.0.70 (from torch>=1.11.0->sentence-transformers>=2.6.1->llama-index-embeddings-huggingface)\n",
            "  Downloading nvidia_cudnn_cu12-9.1.0.70-py3-none-manylinux2014_x86_64.whl.metadata (1.6 kB)\n",
            "Collecting nvidia-cublas-cu12==12.4.5.8 (from torch>=1.11.0->sentence-transformers>=2.6.1->llama-index-embeddings-huggingface)\n",
            "  Downloading nvidia_cublas_cu12-12.4.5.8-py3-none-manylinux2014_x86_64.whl.metadata (1.5 kB)\n",
            "Collecting nvidia-cufft-cu12==11.2.1.3 (from torch>=1.11.0->sentence-transformers>=2.6.1->llama-index-embeddings-huggingface)\n",
            "  Downloading nvidia_cufft_cu12-11.2.1.3-py3-none-manylinux2014_x86_64.whl.metadata (1.5 kB)\n",
            "Collecting nvidia-curand-cu12==10.3.5.147 (from torch>=1.11.0->sentence-transformers>=2.6.1->llama-index-embeddings-huggingface)\n",
            "  Downloading nvidia_curand_cu12-10.3.5.147-py3-none-manylinux2014_x86_64.whl.metadata (1.5 kB)\n",
            "Collecting nvidia-cusolver-cu12==11.6.1.9 (from torch>=1.11.0->sentence-transformers>=2.6.1->llama-index-embeddings-huggingface)\n",
            "  Downloading nvidia_cusolver_cu12-11.6.1.9-py3-none-manylinux2014_x86_64.whl.metadata (1.6 kB)\n",
            "Collecting nvidia-cusparse-cu12==12.3.1.170 (from torch>=1.11.0->sentence-transformers>=2.6.1->llama-index-embeddings-huggingface)\n",
            "  Downloading nvidia_cusparse_cu12-12.3.1.170-py3-none-manylinux2014_x86_64.whl.metadata (1.6 kB)\n",
            "Requirement already satisfied: nvidia-cusparselt-cu12==0.6.2 in /usr/local/lib/python3.11/dist-packages (from torch>=1.11.0->sentence-transformers>=2.6.1->llama-index-embeddings-huggingface) (0.6.2)\n",
            "Requirement already satisfied: nvidia-nccl-cu12==2.21.5 in /usr/local/lib/python3.11/dist-packages (from torch>=1.11.0->sentence-transformers>=2.6.1->llama-index-embeddings-huggingface) (2.21.5)\n",
            "Requirement already satisfied: nvidia-nvtx-cu12==12.4.127 in /usr/local/lib/python3.11/dist-packages (from torch>=1.11.0->sentence-transformers>=2.6.1->llama-index-embeddings-huggingface) (12.4.127)\n",
            "Collecting nvidia-nvjitlink-cu12==12.4.127 (from torch>=1.11.0->sentence-transformers>=2.6.1->llama-index-embeddings-huggingface)\n",
            "  Downloading nvidia_nvjitlink_cu12-12.4.127-py3-none-manylinux2014_x86_64.whl.metadata (1.5 kB)\n",
            "Requirement already satisfied: triton==3.2.0 in /usr/local/lib/python3.11/dist-packages (from torch>=1.11.0->sentence-transformers>=2.6.1->llama-index-embeddings-huggingface) (3.2.0)\n",
            "Requirement already satisfied: sympy==1.13.1 in /usr/local/lib/python3.11/dist-packages (from torch>=1.11.0->sentence-transformers>=2.6.1->llama-index-embeddings-huggingface) (1.13.1)\n",
            "Requirement already satisfied: mpmath<1.4,>=1.1.0 in /usr/local/lib/python3.11/dist-packages (from sympy==1.13.1->torch>=1.11.0->sentence-transformers>=2.6.1->llama-index-embeddings-huggingface) (1.3.0)\n",
            "Requirement already satisfied: tokenizers<0.22,>=0.21 in /usr/local/lib/python3.11/dist-packages (from transformers<5,>=4.37.0->llama-index-llms-openai-like<0.5,>=0.4.0->llama-index-llms-groq) (0.21.1)\n",
            "Requirement already satisfied: safetensors>=0.4.3 in /usr/local/lib/python3.11/dist-packages (from transformers<5,>=4.37.0->llama-index-llms-openai-like<0.5,>=0.4.0->llama-index-llms-groq) (0.5.3)\n",
            "Collecting mypy-extensions>=0.3.0 (from typing-inspect>=0.8.0->llama-index-core<0.13,>=0.12.39->llama-index)\n",
            "  Downloading mypy_extensions-1.1.0-py3-none-any.whl.metadata (1.1 kB)\n",
            "Collecting marshmallow<4.0.0,>=3.18.0 (from dataclasses-json->llama-index-core<0.13,>=0.12.39->llama-index)\n",
            "  Downloading marshmallow-3.26.1-py3-none-any.whl.metadata (7.3 kB)\n",
            "Requirement already satisfied: python-dateutil>=2.8.2 in /usr/local/lib/python3.11/dist-packages (from pandas->llama-index-readers-file<0.5,>=0.4.0->llama-index) (2.9.0.post0)\n",
            "Requirement already satisfied: pytz>=2020.1 in /usr/local/lib/python3.11/dist-packages (from pandas->llama-index-readers-file<0.5,>=0.4.0->llama-index) (2025.2)\n",
            "Requirement already satisfied: tzdata>=2022.7 in /usr/local/lib/python3.11/dist-packages (from pandas->llama-index-readers-file<0.5,>=0.4.0->llama-index) (2025.2)\n",
            "Requirement already satisfied: threadpoolctl>=3.1.0 in /usr/local/lib/python3.11/dist-packages (from scikit-learn->sentence-transformers>=2.6.1->llama-index-embeddings-huggingface) (3.6.0)\n",
            "Collecting python-dotenv<2.0.0,>=1.0.1 (from llama-cloud-services>=0.6.24->llama-parse>=0.5.0->llama-index-readers-llama-parse>=0.4.0->llama-index)\n",
            "  Downloading python_dotenv-1.1.0-py3-none-any.whl.metadata (24 kB)\n",
            "Requirement already satisfied: six>=1.5 in /usr/local/lib/python3.11/dist-packages (from python-dateutil>=2.8.2->pandas->llama-index-readers-file<0.5,>=0.4.0->llama-index) (1.17.0)\n",
            "Collecting colorama>=0.4 (from griffe->banks<3,>=2.0.0->llama-index-core<0.13,>=0.12.39->llama-index)\n",
            "  Downloading colorama-0.4.6-py2.py3-none-any.whl.metadata (17 kB)\n",
            "Requirement already satisfied: MarkupSafe>=2.0 in /usr/local/lib/python3.11/dist-packages (from jinja2->banks<3,>=2.0.0->llama-index-core<0.13,>=0.12.39->llama-index) (3.0.2)\n",
            "Downloading llama_index-0.12.39-py3-none-any.whl (7.1 kB)\n",
            "Downloading llama_index_llms_groq-0.3.2-py3-none-any.whl (3.7 kB)\n",
            "Downloading llama_index_embeddings_huggingface-0.5.4-py3-none-any.whl (8.9 kB)\n",
            "Downloading llama_index_agent_openai-0.4.9-py3-none-any.whl (14 kB)\n",
            "Downloading llama_index_cli-0.4.2-py3-none-any.whl (28 kB)\n",
            "Downloading llama_index_core-0.12.39-py3-none-any.whl (7.7 MB)\n",
            "\u001b[2K   \u001b[90m━━━━━━━━━━━━━━━━━━━━━━━━━━━━━━━━━━━━━━━━\u001b[0m \u001b[32m7.7/7.7 MB\u001b[0m \u001b[31m45.3 MB/s\u001b[0m eta \u001b[36m0:00:00\u001b[0m\n",
            "\u001b[?25hDownloading llama_index_embeddings_openai-0.3.1-py3-none-any.whl (6.2 kB)\n",
            "Downloading llama_index_indices_managed_llama_cloud-0.7.2-py3-none-any.whl (15 kB)\n",
            "Downloading llama_cloud-0.1.23-py3-none-any.whl (267 kB)\n",
            "\u001b[2K   \u001b[90m━━━━━━━━━━━━━━━━━━━━━━━━━━━━━━━━━━━━━━━━\u001b[0m \u001b[32m267.3/267.3 kB\u001b[0m \u001b[31m14.5 MB/s\u001b[0m eta \u001b[36m0:00:00\u001b[0m\n",
            "\u001b[?25hDownloading llama_index_llms_openai-0.4.0-py3-none-any.whl (24 kB)\n",
            "Downloading llama_index_llms_openai_like-0.4.0-py3-none-any.whl (4.6 kB)\n",
            "Downloading llama_index_multi_modal_llms_openai-0.5.1-py3-none-any.whl (3.4 kB)\n",
            "Downloading llama_index_program_openai-0.3.2-py3-none-any.whl (6.1 kB)\n",
            "Downloading llama_index_question_gen_openai-0.3.1-py3-none-any.whl (3.7 kB)\n",
            "Downloading llama_index_readers_file-0.4.8-py3-none-any.whl (40 kB)\n",
            "\u001b[2K   \u001b[90m━━━━━━━━━━━━━━━━━━━━━━━━━━━━━━━━━━━━━━━━\u001b[0m \u001b[32m41.0/41.0 kB\u001b[0m \u001b[31m2.4 MB/s\u001b[0m eta \u001b[36m0:00:00\u001b[0m\n",
            "\u001b[?25hDownloading llama_index_readers_llama_parse-0.4.0-py3-none-any.whl (2.5 kB)\n",
            "Downloading banks-2.1.2-py3-none-any.whl (28 kB)\n",
            "Downloading Deprecated-1.2.18-py2.py3-none-any.whl (10.0 kB)\n",
            "Downloading dirtyjson-1.0.8-py3-none-any.whl (25 kB)\n",
            "Downloading filetype-1.2.0-py2.py3-none-any.whl (19 kB)\n",
            "Downloading llama_parse-0.6.25-py3-none-any.whl (4.9 kB)\n",
            "Downloading pypdf-5.5.0-py3-none-any.whl (303 kB)\n",
            "\u001b[2K   \u001b[90m━━━━━━━━━━━━━━━━━━━━━━━━━━━━━━━━━━━━━━━━\u001b[0m \u001b[32m303.4/303.4 kB\u001b[0m \u001b[31m18.0 MB/s\u001b[0m eta \u001b[36m0:00:00\u001b[0m\n",
            "\u001b[?25hDownloading striprtf-0.0.26-py3-none-any.whl (6.9 kB)\n",
            "Downloading nvidia_cublas_cu12-12.4.5.8-py3-none-manylinux2014_x86_64.whl (363.4 MB)\n",
            "\u001b[2K   \u001b[90m━━━━━━━━━━━━━━━━━━━━━━━━━━━━━━━━━━━━━━━━\u001b[0m \u001b[32m363.4/363.4 MB\u001b[0m \u001b[31m4.6 MB/s\u001b[0m eta \u001b[36m0:00:00\u001b[0m\n",
            "\u001b[?25hDownloading nvidia_cuda_cupti_cu12-12.4.127-py3-none-manylinux2014_x86_64.whl (13.8 MB)\n",
            "\u001b[2K   \u001b[90m━━━━━━━━━━━━━━━━━━━━━━━━━━━━━━━━━━━━━━━━\u001b[0m \u001b[32m13.8/13.8 MB\u001b[0m \u001b[31m35.9 MB/s\u001b[0m eta \u001b[36m0:00:00\u001b[0m\n",
            "\u001b[?25hDownloading nvidia_cuda_nvrtc_cu12-12.4.127-py3-none-manylinux2014_x86_64.whl (24.6 MB)\n",
            "\u001b[2K   \u001b[90m━━━━━━━━━━━━━━━━━━━━━━━━━━━━━━━━━━━━━━━━\u001b[0m \u001b[32m24.6/24.6 MB\u001b[0m \u001b[31m27.7 MB/s\u001b[0m eta \u001b[36m0:00:00\u001b[0m\n",
            "\u001b[?25hDownloading nvidia_cuda_runtime_cu12-12.4.127-py3-none-manylinux2014_x86_64.whl (883 kB)\n",
            "\u001b[2K   \u001b[90m━━━━━━━━━━━━━━━━━━━━━━━━━━━━━━━━━━━━━━━━\u001b[0m \u001b[32m883.7/883.7 kB\u001b[0m \u001b[31m33.4 MB/s\u001b[0m eta \u001b[36m0:00:00\u001b[0m\n",
            "\u001b[?25hDownloading nvidia_cudnn_cu12-9.1.0.70-py3-none-manylinux2014_x86_64.whl (664.8 MB)\n",
            "\u001b[2K   \u001b[90m━━━━━━━━━━━━━━━━━━━━━━━━━━━━━━━━━━━━━━━━\u001b[0m \u001b[32m664.8/664.8 MB\u001b[0m \u001b[31m2.6 MB/s\u001b[0m eta \u001b[36m0:00:00\u001b[0m\n",
            "\u001b[?25hDownloading nvidia_cufft_cu12-11.2.1.3-py3-none-manylinux2014_x86_64.whl (211.5 MB)\n",
            "\u001b[2K   \u001b[90m━━━━━━━━━━━━━━━━━━━━━━━━━━━━━━━━━━━━━━━━\u001b[0m \u001b[32m211.5/211.5 MB\u001b[0m \u001b[31m6.3 MB/s\u001b[0m eta \u001b[36m0:00:00\u001b[0m\n",
            "\u001b[?25hDownloading nvidia_curand_cu12-10.3.5.147-py3-none-manylinux2014_x86_64.whl (56.3 MB)\n",
            "\u001b[2K   \u001b[90m━━━━━━━━━━━━━━━━━━━━━━━━━━━━━━━━━━━━━━━━\u001b[0m \u001b[32m56.3/56.3 MB\u001b[0m \u001b[31m11.7 MB/s\u001b[0m eta \u001b[36m0:00:00\u001b[0m\n",
            "\u001b[?25hDownloading nvidia_cusolver_cu12-11.6.1.9-py3-none-manylinux2014_x86_64.whl (127.9 MB)\n",
            "\u001b[2K   \u001b[90m━━━━━━━━━━━━━━━━━━━━━━━━━━━━━━━━━━━━━━━━\u001b[0m \u001b[32m127.9/127.9 MB\u001b[0m \u001b[31m7.3 MB/s\u001b[0m eta \u001b[36m0:00:00\u001b[0m\n",
            "\u001b[?25hDownloading nvidia_cusparse_cu12-12.3.1.170-py3-none-manylinux2014_x86_64.whl (207.5 MB)\n",
            "\u001b[2K   \u001b[90m━━━━━━━━━━━━━━━━━━━━━━━━━━━━━━━━━━━━━━━━\u001b[0m \u001b[32m207.5/207.5 MB\u001b[0m \u001b[31m6.0 MB/s\u001b[0m eta \u001b[36m0:00:00\u001b[0m\n",
            "\u001b[?25hDownloading nvidia_nvjitlink_cu12-12.4.127-py3-none-manylinux2014_x86_64.whl (21.1 MB)\n",
            "\u001b[2K   \u001b[90m━━━━━━━━━━━━━━━━━━━━━━━━━━━━━━━━━━━━━━━━\u001b[0m \u001b[32m21.1/21.1 MB\u001b[0m \u001b[31m82.9 MB/s\u001b[0m eta \u001b[36m0:00:00\u001b[0m\n",
            "\u001b[?25hDownloading typing_inspect-0.9.0-py3-none-any.whl (8.8 kB)\n",
            "Downloading aiosqlite-0.21.0-py3-none-any.whl (15 kB)\n",
            "Downloading dataclasses_json-0.6.7-py3-none-any.whl (28 kB)\n",
            "Downloading llama_cloud_services-0.6.25-py3-none-any.whl (37 kB)\n",
            "Downloading marshmallow-3.26.1-py3-none-any.whl (50 kB)\n",
            "\u001b[2K   \u001b[90m━━━━━━━━━━━━━━━━━━━━━━━━━━━━━━━━━━━━━━━━\u001b[0m \u001b[32m50.9/50.9 kB\u001b[0m \u001b[31m3.8 MB/s\u001b[0m eta \u001b[36m0:00:00\u001b[0m\n",
            "\u001b[?25hDownloading mypy_extensions-1.1.0-py3-none-any.whl (5.0 kB)\n",
            "Downloading griffe-1.7.3-py3-none-any.whl (129 kB)\n",
            "\u001b[2K   \u001b[90m━━━━━━━━━━━━━━━━━━━━━━━━━━━━━━━━━━━━━━━━\u001b[0m \u001b[32m129.3/129.3 kB\u001b[0m \u001b[31m10.5 MB/s\u001b[0m eta \u001b[36m0:00:00\u001b[0m\n",
            "\u001b[?25hDownloading colorama-0.4.6-py2.py3-none-any.whl (25 kB)\n",
            "Downloading python_dotenv-1.1.0-py3-none-any.whl (20 kB)\n",
            "Installing collected packages: striprtf, filetype, dirtyjson, python-dotenv, pypdf, nvidia-nvjitlink-cu12, nvidia-curand-cu12, nvidia-cufft-cu12, nvidia-cuda-runtime-cu12, nvidia-cuda-nvrtc-cu12, nvidia-cuda-cupti-cu12, nvidia-cublas-cu12, mypy-extensions, marshmallow, deprecated, colorama, aiosqlite, typing-inspect, nvidia-cusparse-cu12, nvidia-cudnn-cu12, griffe, nvidia-cusolver-cu12, llama-cloud, dataclasses-json, banks, llama-index-core, llama-index-readers-file, llama-index-llms-openai, llama-index-indices-managed-llama-cloud, llama-index-embeddings-openai, llama-cloud-services, llama-parse, llama-index-multi-modal-llms-openai, llama-index-llms-openai-like, llama-index-embeddings-huggingface, llama-index-cli, llama-index-agent-openai, llama-index-readers-llama-parse, llama-index-program-openai, llama-index-llms-groq, llama-index-question-gen-openai, llama-index\n",
            "  Attempting uninstall: nvidia-nvjitlink-cu12\n",
            "    Found existing installation: nvidia-nvjitlink-cu12 12.5.82\n",
            "    Uninstalling nvidia-nvjitlink-cu12-12.5.82:\n",
            "      Successfully uninstalled nvidia-nvjitlink-cu12-12.5.82\n",
            "  Attempting uninstall: nvidia-curand-cu12\n",
            "    Found existing installation: nvidia-curand-cu12 10.3.6.82\n",
            "    Uninstalling nvidia-curand-cu12-10.3.6.82:\n",
            "      Successfully uninstalled nvidia-curand-cu12-10.3.6.82\n",
            "  Attempting uninstall: nvidia-cufft-cu12\n",
            "    Found existing installation: nvidia-cufft-cu12 11.2.3.61\n",
            "    Uninstalling nvidia-cufft-cu12-11.2.3.61:\n",
            "      Successfully uninstalled nvidia-cufft-cu12-11.2.3.61\n",
            "  Attempting uninstall: nvidia-cuda-runtime-cu12\n",
            "    Found existing installation: nvidia-cuda-runtime-cu12 12.5.82\n",
            "    Uninstalling nvidia-cuda-runtime-cu12-12.5.82:\n",
            "      Successfully uninstalled nvidia-cuda-runtime-cu12-12.5.82\n",
            "  Attempting uninstall: nvidia-cuda-nvrtc-cu12\n",
            "    Found existing installation: nvidia-cuda-nvrtc-cu12 12.5.82\n",
            "    Uninstalling nvidia-cuda-nvrtc-cu12-12.5.82:\n",
            "      Successfully uninstalled nvidia-cuda-nvrtc-cu12-12.5.82\n",
            "  Attempting uninstall: nvidia-cuda-cupti-cu12\n",
            "    Found existing installation: nvidia-cuda-cupti-cu12 12.5.82\n",
            "    Uninstalling nvidia-cuda-cupti-cu12-12.5.82:\n",
            "      Successfully uninstalled nvidia-cuda-cupti-cu12-12.5.82\n",
            "  Attempting uninstall: nvidia-cublas-cu12\n",
            "    Found existing installation: nvidia-cublas-cu12 12.5.3.2\n",
            "    Uninstalling nvidia-cublas-cu12-12.5.3.2:\n",
            "      Successfully uninstalled nvidia-cublas-cu12-12.5.3.2\n",
            "  Attempting uninstall: nvidia-cusparse-cu12\n",
            "    Found existing installation: nvidia-cusparse-cu12 12.5.1.3\n",
            "    Uninstalling nvidia-cusparse-cu12-12.5.1.3:\n",
            "      Successfully uninstalled nvidia-cusparse-cu12-12.5.1.3\n",
            "  Attempting uninstall: nvidia-cudnn-cu12\n",
            "    Found existing installation: nvidia-cudnn-cu12 9.3.0.75\n",
            "    Uninstalling nvidia-cudnn-cu12-9.3.0.75:\n",
            "      Successfully uninstalled nvidia-cudnn-cu12-9.3.0.75\n",
            "  Attempting uninstall: nvidia-cusolver-cu12\n",
            "    Found existing installation: nvidia-cusolver-cu12 11.6.3.83\n",
            "    Uninstalling nvidia-cusolver-cu12-11.6.3.83:\n",
            "      Successfully uninstalled nvidia-cusolver-cu12-11.6.3.83\n",
            "Successfully installed aiosqlite-0.21.0 banks-2.1.2 colorama-0.4.6 dataclasses-json-0.6.7 deprecated-1.2.18 dirtyjson-1.0.8 filetype-1.2.0 griffe-1.7.3 llama-cloud-0.1.23 llama-cloud-services-0.6.25 llama-index-0.12.39 llama-index-agent-openai-0.4.9 llama-index-cli-0.4.2 llama-index-core-0.12.39 llama-index-embeddings-huggingface-0.5.4 llama-index-embeddings-openai-0.3.1 llama-index-indices-managed-llama-cloud-0.7.2 llama-index-llms-groq-0.3.2 llama-index-llms-openai-0.4.0 llama-index-llms-openai-like-0.4.0 llama-index-multi-modal-llms-openai-0.5.1 llama-index-program-openai-0.3.2 llama-index-question-gen-openai-0.3.1 llama-index-readers-file-0.4.8 llama-index-readers-llama-parse-0.4.0 llama-parse-0.6.25 marshmallow-3.26.1 mypy-extensions-1.1.0 nvidia-cublas-cu12-12.4.5.8 nvidia-cuda-cupti-cu12-12.4.127 nvidia-cuda-nvrtc-cu12-12.4.127 nvidia-cuda-runtime-cu12-12.4.127 nvidia-cudnn-cu12-9.1.0.70 nvidia-cufft-cu12-11.2.1.3 nvidia-curand-cu12-10.3.5.147 nvidia-cusolver-cu12-11.6.1.9 nvidia-cusparse-cu12-12.3.1.170 nvidia-nvjitlink-cu12-12.4.127 pypdf-5.5.0 python-dotenv-1.1.0 striprtf-0.0.26 typing-inspect-0.9.0\n"
          ]
        }
      ],
      "source": [
        "!pip install llama-index llama-index-llms-groq llama-index-embeddings-huggingface"
      ]
    },
    {
      "cell_type": "code",
      "execution_count": 43,
      "id": "94a325bd-4855-446b-b7f9-15a28f8af29d",
      "metadata": {
        "id": "94a325bd-4855-446b-b7f9-15a28f8af29d"
      },
      "outputs": [],
      "source": [
        "import os"
      ]
    },
    {
      "cell_type": "code",
      "execution_count": 3,
      "id": "3e6676a8-ddb8-4be5-9aad-aa4b7c550c48",
      "metadata": {
        "id": "3e6676a8-ddb8-4be5-9aad-aa4b7c550c48"
      },
      "outputs": [],
      "source": [
        "GROQ_API_KEY = \"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\""
      ]
    },
    {
      "cell_type": "code",
      "execution_count": 4,
      "id": "f26fb993-744f-46f8-81eb-e66ca4a5f123",
      "metadata": {
        "id": "f26fb993-744f-46f8-81eb-e66ca4a5f123"
      },
      "outputs": [],
      "source": [
        "os.environ[\"GROQ_API_KEY\"] = GROQ_API_KEY"
      ]
    },
    {
      "cell_type": "code",
      "execution_count": 5,
      "id": "5b396428-1c8c-4d9b-a192-2bebc09276b0",
      "metadata": {
        "id": "5b396428-1c8c-4d9b-a192-2bebc09276b0"
      },
      "outputs": [],
      "source": [
        "import nest_asyncio\n",
        "\n",
        "nest_asyncio.apply()"
      ]
    },
    {
      "cell_type": "code",
      "execution_count": 6,
      "id": "a69d04e9-e53d-40d8-996e-ffedcd683ca3",
      "metadata": {
        "id": "a69d04e9-e53d-40d8-996e-ffedcd683ca3"
      },
      "outputs": [],
      "source": [
        "from llama_index.core import SimpleDirectoryReader\n",
        "from llama_index.core import SummaryIndex\n",
        "from llama_index.llms.groq import Groq\n",
        "from llama_index.core.node_parser import SentenceSplitter\n",
        "from llama_index.core import Settings\n",
        "from llama_index.embeddings.huggingface import HuggingFaceEmbedding"
      ]
    },
    {
      "cell_type": "code",
      "execution_count": 42,
      "id": "7f663966-2da6-4c00-b040-f469290598d2",
      "metadata": {
        "id": "7f663966-2da6-4c00-b040-f469290598d2"
      },
      "outputs": [],
      "source": [
        "llm = Groq(model=\"llama-3.3-70b-versatile\")\n",
        "\n",
        "Settings.llm = llm\n",
        "Settings.embed_model = HuggingFaceEmbedding()"
      ]
    },
    {
      "cell_type": "code",
      "execution_count": 25,
      "id": "55d1376c-8dfe-4870-802b-67ae2ba79217",
      "metadata": {
        "id": "55d1376c-8dfe-4870-802b-67ae2ba79217"
      },
      "outputs": [],
      "source": [
        "# load the document\n",
        "documents = SimpleDirectoryReader(input_files=[\"/content/SH-SER-01-25_102_Inv.pdf\"]).load_data()"
      ]
    },
    {
      "cell_type": "code",
      "execution_count": 44,
      "id": "5634f639-3b8e-4075-afd2-db6cec52ea7e",
      "metadata": {
        "id": "5634f639-3b8e-4075-afd2-db6cec52ea7e",
        "outputId": "726d794c-7d2c-4fb9-e2a0-08e3b5f79049",
        "colab": {
          "base_uri": "https://localhost:8080/"
        }
      },
      "outputs": [
        {
          "output_type": "stream",
          "name": "stdout",
          "text": [
            "<class 'list'>\n"
          ]
        }
      ],
      "source": [
        "print(type(documents))"
      ]
    },
    {
      "cell_type": "code",
      "execution_count": 45,
      "id": "266ba0ba-a324-4425-8851-348c9790bcb2",
      "metadata": {
        "id": "266ba0ba-a324-4425-8851-348c9790bcb2",
        "outputId": "be254a28-0004-4e20-cec7-90f08345e867",
        "colab": {
          "base_uri": "https://localhost:8080/"
        }
      },
      "outputs": [
        {
          "output_type": "execute_result",
          "data": {
            "text/plain": [
              "11"
            ]
          },
          "metadata": {},
          "execution_count": 45
        }
      ],
      "source": [
        "len(documents)"
      ]
    },
    {
      "cell_type": "code",
      "execution_count": 46,
      "id": "6b45696a-255c-45d6-9aea-660fcc605328",
      "metadata": {
        "id": "6b45696a-255c-45d6-9aea-660fcc605328",
        "outputId": "a58e1329-3c91-49c9-da17-eb18e1645392",
        "colab": {
          "base_uri": "https://localhost:8080/"
        }
      },
      "outputs": [
        {
          "output_type": "execute_result",
          "data": {
            "text/plain": [
              "Document(id_='71508860-b67b-4e92-a6e3-efbbd4dafaf9', embedding=None, metadata={'page_label': '1', 'file_name': 'SH-SER-01-25_102_Inv.pdf', 'file_path': '/content/SH-SER-01-25_102_Inv.pdf', 'file_type': 'application/pdf', 'file_size': 936026, 'creation_date': '2025-05-31', 'last_modified_date': '2025-05-31'}, excluded_embed_metadata_keys=['file_name', 'file_type', 'file_size', 'creation_date', 'last_modified_date', 'last_accessed_date'], excluded_llm_metadata_keys=['file_name', 'file_type', 'file_size', 'creation_date', 'last_modified_date', 'last_accessed_date'], relationships={}, metadata_template='{key}: {value}', metadata_separator='\\n', text_resource=MediaResource(embeddings=None, data=None, text='Page 1 of 11\\nExporter Invoice No. & Date Exporter\\'s Ref.\\nSIEMENS HEALTHCARE PRIVATE LIMITED\\nC/O FM INDIA SUPPLY CHAIN PVT. LTD.\\nBGR REALTIES P LTD., SRV NO.2 TO 8,10,11 &15 Other Reference (s)\\nVILLAGE SAPE, PADGHA KALYAN RD, BHIWANDI,\\nTHANE, MAHARASHTRA-421302 \\nGSTIN : 27AAVCS8021P1ZF\\nConsignee Sector : Healthcare\\nSIEMENS HEALTHINEERS AG, Division : Service\\nWORLD DISTRIBUTION CENTER, GL Code  : 6010000010\\nHALLE A2, TOR 8-14, Sales ORG : IN10 Cost Center No : B2500987\\nAN DER GEHESPITZ 90, 63263, Sales Office : IN18 Profit Center : P0000023\\nNEU - ISENBURG, Sales Order No. & Dt. : NA IO No : NA\\nGERMANY. Terms of Delivery & Payment\\nMr.Helmut Fett ; Tel.: +49 9131 84-9825 Incoterms : DAP\\nEMail : csml-r.team@siemens-healthineers.com Shipping Bill Type : FREE\\nEnd Use : GNX100 / GNX600\\nStatement : Imported goods being returned to Vendor\\nPlace of Delivery Payment Terms : ICC (end of month + 30)\\nIGST Payment Status : P (Under Rebate)\\nUnit Amount Amount\\nRate USD INR\\n1 0000715743 4300344420 9017146659 10513501 Serv.Part XRS-Box Xynergy 1 90229090 5,139.88         5,139.88         446,844.83           \\nIntegrated GST : 12.00% 53,621.37             \\nSerial No. 4148\\nCountry of Origin: DE\\nAL: 9I999RU_833_23; ECCN: EAR99RU\\n2 0000813332 4300298347 9017145933 11105515 Horizontal cables(Vario and Vector) 1 85444999 413.98             413.98             36,099.69             \\nIntegrated GST : 18.00% 6,497.94               \\nSerial No. NA\\nCountry of Origin: CN\\nAL: 9I999RU_833_23; ECCN: N\\n3 0000824060 4300300358 9017145935 10397015 Light barrier set(vertical) 1 90229090 68.86               68.86               6,004.73               \\nIntegrated GST : 12.00% 720.56                   \\nSerial No. NA\\nCountry of Origin: CN\\nAL: 9I999RU_833_23; ECCN: N\\n4 0000732147 4300301334 9017145936 11106811 P-path sensor 1 90318000 369.30             369.30             32,203.49             \\nIntegrated GST : 18.00% 5,796.62               \\nSerial No. NA\\nCountry of Origin: CN\\nAL: 9I999RU_833_23; ECCN: N\\n5 0000801993 4300302182 9017145930 10568828 DAFID - Adapter 1 85366990 108.21             108.21             9,436.08               \\nIntegrated GST : 18.00% 1,698.49               \\nSerial No. NA\\nCountry of Origin: DE\\nAL: 9I999RU_833_23; ECCN: N\\n6 0000667067 4300344424 9017146657 8648086 CH5-2 Curved Array Transducer 1 90189019 905.83             905.83             78,749.96             \\nIntegrated GST : 12.00% 9,449.99               \\nSerial No. 31108080\\nCountry of Origin: KR\\nAL: N; ECCN: EAR99RU\\n7 0000663224 4300344424 9017146657 11284842 10MC3 Transducer (DL260) 1 90189019 471.36             471.36             40,978.52             \\nIntegrated GST : 12.00% 4,917.42               \\nSerial No. 90402011\\nCountry of Origin: KR\\nAL: N; ECCN: EAR99RU\\n8 0000835431 4300307217 9017145927 10051625 FRU DRAW WIRE ENCODER 1 90318000 448.38             448.38             39,099.40             \\nIntegrated GST : 18.00% 7,037.89               \\nSerial No. NA\\nCountry of Origin: DE\\nAL: 9I999RU_833_23; ECCN: N\\nBank Name : Deutsche Bank Bank AD Code : 6550001-6000009\\nBank A/c No. : 0676262000 Swift Code : DEUTINBB\\nIFSC Code : DEUT0784BBY\\nNet Amount Receivable  (USD)           :\\nNet Amount Receivable in Words      :\\nRegistered Address and CIN Number\\nIE Code No. : 0315054191\\nPAN No. : AAVCS8021P\\nState of Origin of Goods: Maharashtra (27)\\nDistrict of Origin of Goods: Thane (497)\\nDeclaration: SIEMENS HEALTHCARE PRIVATE LIMITED\\na) We declare that this Invoice shows the actual price of the goods described and that all particulars are true and correct.\\nb) I/We undertake to abide by provisions of Foreign Exchange Management Act, 1999, as amended from time to time, including\\n    realization / repatriation of foreign exchange to / from India.\\nc) Supply meant for export on payment of Integrated tax \"Rebate\" Signature & Date\\nE& OE\\nTotal Integrated GST (INR) ₹ 0.00 \\nThese items are controlled by the U.S. Government (when labeled with “ECCN” unequal “N”) and authorized for export only to the country of ultimate \\ndestination for use by the ultimate consignee or end-user(s) herein identified. They may not be resold, transferred, or otherwise disposed of, to any other \\ncountry or to any person other than the authorized ultimate consignee or end-user(s), either in their original form or after being incorporated into other \\nitems, without first obtaining approval from the U.S. Government or as otherwise authorized by U.S. law and regulations. Items labeled with “EKN” not equal \\nto “N” are subject to national export authorization when being exported. Items without label or with label “EKN:N” / “ECCN:N” or label “EKN:9X9999” / \\n“ECCN: 9X9999” may require authorization from responsible authorities depending on the final end-use, or the destination.\\nRegistered office: Unit 9A, 9th Floor, North Tower, Godrej One, Pirojshanagar, Eastern Express Highway, Vikhroli East, Mumbai -400079, India. \\nCorporate Identity Number : U74999MH2015PTC264859. Toll free: 1800-209-1800 ; Contact e-mail : hc_contact.india@siemens-healthineers.com\\nDescription of Material No. Qty HS Code\\nTotal Value (USD) $ 0.00\\nTotal Value (INR) ₹ 0.00 \\nPort of Loading Port of Discharge\\n MUMBAI   FRANKFURT\\nCountry of Final Destination\\nGERMANY\\t NEU - ISENBURG\\nSr. \\nNo. Batch ID Return PO No. Reference No. Material No.\\nEXPORT INVOICE\\nSH-SER-01-25/102   Date: 20-03-2025\\nBuyer\\'s Order No. & Date\\nBuyer (if other than consignee)\\nExporterName\\nInvoiceNo\\nInvoiceDate\\nPaymentPeriod\\nTermsOfPayment\\nCurrency\\nItemDesc\\nQuantity\\nHSNCode\\nRate\\nAmount\\nItemCountry\\nIEC\\nConsigneeAdd4\\nConsigneeAdd3\\nConsigneeName\\nConsigneeAdd1\\nConsigneeAdd2\\nCountryOfDischarge\\nPortOfDischarge', path=None, url=None, mimetype=None), image_resource=None, audio_resource=None, video_resource=None, text_template='{metadata_str}\\n\\n{content}')"
            ]
          },
          "metadata": {},
          "execution_count": 46
        }
      ],
      "source": [
        "documents[0]"
      ]
    },
    {
      "cell_type": "code",
      "execution_count": 29,
      "id": "8645fe4a-47b6-4f73-8836-f2a669ef94b5",
      "metadata": {
        "id": "8645fe4a-47b6-4f73-8836-f2a669ef94b5",
        "outputId": "fbc2da12-d004-49ad-f57c-b17121ddf0dc",
        "colab": {
          "base_uri": "https://localhost:8080/"
        }
      },
      "outputs": [
        {
          "output_type": "execute_result",
          "data": {
            "text/plain": [
              "Document(id_='c65d1017-0316-4710-af8e-6f93746739d0', embedding=None, metadata={'page_label': '2', 'file_name': 'SH-SER-01-25_102_Inv.pdf', 'file_path': '/content/SH-SER-01-25_102_Inv.pdf', 'file_type': 'application/pdf', 'file_size': 936026, 'creation_date': '2025-05-31', 'last_modified_date': '2025-05-31'}, excluded_embed_metadata_keys=['file_name', 'file_type', 'file_size', 'creation_date', 'last_modified_date', 'last_accessed_date'], excluded_llm_metadata_keys=['file_name', 'file_type', 'file_size', 'creation_date', 'last_modified_date', 'last_accessed_date'], relationships={}, metadata_template='{key}: {value}', metadata_separator='\\n', text_resource=MediaResource(embeddings=None, data=None, text='Page 2 of 11\\nExporter Invoice No. & Date Exporter\\'s Ref.\\nSIEMENS HEALTHCARE PRIVATE LIMITED\\nC/O FM INDIA SUPPLY CHAIN PVT. LTD.\\nBGR REALTIES P LTD., SRV NO.2 TO 8,10,11 &15 Other Reference (s)\\nVILLAGE SAPE, PADGHA KALYAN RD, BHIWANDI,\\nTHANE, MAHARASHTRA-421302 \\nGSTIN : 27AAVCS8021P1ZF\\nConsignee Sector : Healthcare\\nSIEMENS HEALTHINEERS AG, Division : Service\\nWORLD DISTRIBUTION CENTER, GL Code  : 6010000010\\nHALLE A2, TOR 8-14, Sales ORG : IN10 Cost Center No : B2500987\\nAN DER GEHESPITZ 90, 63263, Sales Office : IN18 Profit Center : P0000023\\nNEU - ISENBURG, Sales Order No. & Dt. : NA IO No : NA\\nGERMANY. Terms of Delivery & Payment\\nMr.Helmut Fett ; Tel.: +49 9131 84-9825 Incoterms : DAP\\nEMail : csml-r.team@siemens-healthineers.com Shipping Bill Type : FREE\\nEnd Use : GNX100 / GNX600\\nStatement : Imported goods being returned to Vendor\\nPlace of Delivery Payment Terms : ICC (end of month + 30)\\nIGST Payment Status : P (Under Rebate)\\nUnit Amount Amount\\nRate USD INR\\n9 0000856605 4300344420 9017146659 11061599 ID-board spare part kit 1 85371090 5.00                 5.00                 434.70                   \\nIntegrated GST : 18.00% 78.24                     \\nSerial No. 16657\\nCountry of Origin: DE\\nAL: 9I999RU_833_23; ECCN: EAR99RU\\n10 0000873411 4300322241 9017145928 10912184 Belt tension tool 1 73269099 39.36               39.36               3,432.29               \\nIntegrated GST : 18.00% 617.81                   \\nSerial No. NA\\nCountry of Origin: CN\\nAL: 9I999RU_833VII; ECCN: N\\n11 0000809118 4300344422 9017146658 11407606 AC-DC IN265V OUT24V/8V/7.5V/15V 1 85044090 5.00                 5.00                 434.62                   \\nIntegrated GST : 18.00% 78.23                     \\nSerial No. NA\\nCountry of Origin: CN\\nAL: 9I999RU_833_23; ECCN: N\\n12 0000925173 4300344420 9017146659 11115636 Service Part aCTivate GBOX LP 1 90229090 8,509.08         8,509.08         739,752.28           \\nIntegrated GST : 12.00% 88,770.27             \\nSerial No. 4705\\nCountry of Origin: DE\\nAL: 9I999RU_833_23; ECCN: N\\n13 0000898786 4300344420 9017146659 11115537 Brushblock LP service part 1 85369090 451.02             451.02             39,210.26             \\nIntegrated GST : 18.00% 7,057.84               \\nSerial No. S06633\\nCountry of Origin: US\\nAL: 9I999RU_833_23; ECCN: EAR99RU\\n14 0000879867 4300351196 9017145711 10928320 DURA 202-MV 1 90223000 561.05             561.05             48,924.40             \\nIntegrated GST : 12.00% 5,870.92               \\nSerial No. 528132141/333112151\\nCountry of Origin: CN\\nAL: N; ECCN: N\\n15 0000674558 4300353302 9017145707 10500092 TIM Coil Interface 3.0T 1 90189019 1,083.29         1,083.29         94,803.30             \\nIntegrated GST : 12.00% 11,376.39             \\nSerial No. 2395\\nCountry of Origin: CN\\nAL: 9I999RU_833_23; ECCN: N\\n16 0000962382 4300353327 9017146113 10150878 RF CONTROLLER / SIGNAL SOURCE 1 85437099 983.08             983.08             85,725.99             \\nIntegrated GST : 18.00% 15,430.67             \\nSerial No. 6450030\\nCountry of Origin: US\\nAL: 9I999RU_833_23; ECCN: EAR99RU\\nBank Name : Deutsche Bank Bank AD Code : 6550001-6000009\\nBank A/c No. : 0676262000 Swift Code : DEUTINBB\\nIFSC Code : DEUT0784BBY\\nNet Amount Receivable  (USD)           :\\nNet Amount Receivable in Words      :\\nRegistered Address and CIN Number\\nIE Code No. : 0315054191\\nPAN No. : AAVCS8021P\\nState of Origin of Goods: Maharashtra (27)\\nDistrict of Origin of Goods: Thane (497)\\nDeclaration: SIEMENS HEALTHCARE PRIVATE LIMITED\\na) We declare that this Invoice shows the actual price of the goods described and that all particulars are true and correct.\\nb) I/We undertake to abide by provisions of Foreign Exchange Management Act, 1999, as amended from time to time, including\\n    realization / repatriation of foreign exchange to / from India.\\nc) Supply meant for export on payment of Integrated tax \"Rebate\" Signature & Date\\nE& OE\\nTotal Integrated GST (INR) ₹ 0.00 \\nThese items are controlled by the U.S. Government (when labeled with “ECCN” unequal “N”) and authorized for export only to the country of ultimate \\ndestination for use by the ultimate consignee or end-user(s) herein identified. They may not be resold, transferred, or otherwise disposed of, to any other \\ncountry or to any person other than the authorized ultimate consignee or end-user(s), either in their original form or after being incorporated into other \\nitems, without first obtaining approval from the U.S. Government or as otherwise authorized by U.S. law and regulations. Items labeled with “EKN” not equal \\nto “N” are subject to national export authorization when being exported. Items without label or with label “EKN:N” / “ECCN:N” or label “EKN:9X9999” / \\n“ECCN: 9X9999” may require authorization from responsible authorities depending on the final end-use, or the destination.\\nRegistered office: Unit 9A, 9th Floor, North Tower, Godrej One, Pirojshanagar, Eastern Express Highway, Vikhroli East, Mumbai -400079, India. \\nCorporate Identity Number : U74999MH2015PTC264859. Toll free: 1800-209-1800 ; Contact e-mail : hc_contact.india@siemens-healthineers.com\\nDescription of Material No. Qty HS Code\\nTotal Value (USD) $ 0.00\\nTotal Value (INR) ₹ 0.00 \\n MUMBAI   FRANKFURT\\nCountry of Final Destination\\nGERMANY\\t NEU - ISENBURG\\nSr. \\nNo. Batch ID Return PO No. Reference No. Material No.\\nSH-SER-01-25/102   Date: 20-03-2025\\nBuyer\\'s Order No. & Date\\nBuyer (if other than consignee)\\nPort of Loading Port of Discharge\\nEXPORT INVOICE', path=None, url=None, mimetype=None), image_resource=None, audio_resource=None, video_resource=None, text_template='{metadata_str}\\n\\n{content}')"
            ]
          },
          "metadata": {},
          "execution_count": 29
        }
      ],
      "source": [
        "documents[1]"
      ]
    },
    {
      "cell_type": "code",
      "execution_count": 47,
      "id": "3b0c9bf1-f2fd-4160-b727-26929c7e0a4f",
      "metadata": {
        "id": "3b0c9bf1-f2fd-4160-b727-26929c7e0a4f"
      },
      "outputs": [],
      "source": [
        "splitter = SentenceSplitter(chunk_size=2048)\n",
        "nodes = splitter.get_nodes_from_documents(documents)"
      ]
    },
    {
      "cell_type": "code",
      "execution_count": 48,
      "id": "26249b64-df0f-4354-8bf1-e05ce776514a",
      "metadata": {
        "id": "26249b64-df0f-4354-8bf1-e05ce776514a"
      },
      "outputs": [],
      "source": [
        "summary_index = SummaryIndex(nodes)"
      ]
    },
    {
      "cell_type": "code",
      "execution_count": 49,
      "id": "d100fcb6-c1a1-4de6-b990-50bae7daf706",
      "metadata": {
        "id": "d100fcb6-c1a1-4de6-b990-50bae7daf706"
      },
      "outputs": [],
      "source": [
        "summary_query_engine = summary_index.as_query_engine(\n",
        "    response_mode=\"tree_summarize\",\n",
        "    use_async=True\n",
        ")"
      ]
    },
    {
      "cell_type": "code",
      "execution_count": 50,
      "id": "b613bf2c-957e-4dc9-bc72-8270905627b1",
      "metadata": {
        "id": "b613bf2c-957e-4dc9-bc72-8270905627b1"
      },
      "outputs": [],
      "source": [
        "response = summary_query_engine.query(\"Summarize the given document\")"
      ]
    },
    {
      "cell_type": "code",
      "execution_count": 51,
      "id": "88f62cf9-dc0b-42f3-a391-5844a04781f1",
      "metadata": {
        "id": "88f62cf9-dc0b-42f3-a391-5844a04781f1",
        "outputId": "51e80632-2852-40aa-c2c3-4d454c20eca4",
        "colab": {
          "base_uri": "https://localhost:8080/"
        }
      },
      "outputs": [
        {
          "output_type": "stream",
          "name": "stdout",
          "text": [
            "<class 'llama_index.core.base.response.schema.Response'>\n"
          ]
        }
      ],
      "source": [
        "print(type(response))"
      ]
    },
    {
      "cell_type": "code",
      "execution_count": 52,
      "id": "39200dd3-8efb-4b5a-9ec0-ed52c9e78772",
      "metadata": {
        "id": "39200dd3-8efb-4b5a-9ec0-ed52c9e78772",
        "outputId": "faa93aa5-de5d-431a-8815-19787008007f",
        "colab": {
          "base_uri": "https://localhost:8080/"
        }
      },
      "outputs": [
        {
          "output_type": "stream",
          "name": "stdout",
          "text": [
            "The document is an export invoice from Siemens Healthcare Private Limited to Siemens Healthineers AG in Germany. It lists various medical equipment and spare parts, including their quantities, prices, and tax amounts. The invoice includes details about the exporter, consignee, shipping information, and terms of delivery and payment. The items are subject to export regulations and may require authorization from responsible authorities. Some items are controlled by the U.S. Government and require authorization for export. The invoice includes declarations and certifications regarding the export of the goods, and it is marked as being for export on payment of Integrated tax 'Rebate'. The total value of the invoice varies, with some invoices having a total value of $0.00, while others have a specified total value. The document appears to be a commercial invoice for the export of medical equipment from India to Germany.\n"
          ]
        }
      ],
      "source": [
        "print(response)"
      ]
    },
    {
      "cell_type": "code",
      "execution_count": 53,
      "id": "2ef9da84-bb41-4545-a554-a55ac1e288ab",
      "metadata": {
        "id": "2ef9da84-bb41-4545-a554-a55ac1e288ab",
        "outputId": "986ed6db-e875-4397-9988-f63a5f323cd4",
        "colab": {
          "base_uri": "https://localhost:8080/"
        }
      },
      "outputs": [
        {
          "output_type": "stream",
          "name": "stdout",
          "text": [
            "There is no information about the Serv. Part XRS-Box Xynergy HSN code. However, the HSN code 90229090 is mentioned for the Service Part Matrix XGR-Box.\n"
          ]
        }
      ],
      "source": [
        "response = summary_query_engine.query(\"What is the Serv. Part XRS-Box Xynergy HSNcode for this items in the document \")\n",
        "\n",
        "print(response)"
      ]
    },
    {
      "cell_type": "code",
      "execution_count": 54,
      "id": "a147a4df-cf43-40c5-b401-133ca97d1953",
      "metadata": {
        "id": "a147a4df-cf43-40c5-b401-133ca97d1953",
        "outputId": "865bb1b2-3e2d-4945-f8da-5345d518f705",
        "colab": {
          "base_uri": "https://localhost:8080/"
        }
      },
      "outputs": [
        {
          "output_type": "stream",
          "name": "stdout",
          "text": [
            "$96,469.67\n"
          ]
        }
      ],
      "source": [
        "response = summary_query_engine.query(\n",
        "    \"What is the total invoice chargeable amount or total invoice value mentioned in the Header section of the JSON?\"\n",
        ")\n",
        "\n",
        "print(response)\n"
      ]
    },
    {
      "cell_type": "code",
      "execution_count": 56,
      "id": "50b07b2f-bd62-429f-a0b9-a0d0c719cf3a",
      "metadata": {
        "id": "50b07b2f-bd62-429f-a0b9-a0d0c719cf3a",
        "outputId": "cb37845e-d604-4615-ae0f-748136427d61",
        "colab": {
          "base_uri": "https://localhost:8080/"
        }
      },
      "outputs": [
        {
          "output_type": "stream",
          "name": "stdout",
          "text": [
            "**Invoice Details:**\n",
            "- **InvoiceNo:** SH-SER-01-25/102\n",
            "- **InvoiceDate:** 20-03-2025\n",
            "- **BuyerName:** Not specified (same as Consignee)\n",
            "- **ExporterName:** SIEMENS HEALTHCARE PRIVATE LIMITED\n",
            "- **ConsigneeName:** SIEMENS HEALTHINEERS AG\n",
            "- **ConsigneeAddress:** Halle A2, Tor 8-14, An der Gehespitz 90, 63263, Neu-Isenburg, Germany\n",
            "- **PortOfDischarge:** FRANKFURT\n",
            "- **Currency:** USD and INR\n",
            "- **InvoiceValue/Amount:** Total Value (USD) $96,469.67, Total Value (INR) ₹8,408,533.66\n",
            "\n",
            "**Items Details:**\n",
            "1. \n",
            "   - **ItemDesc:** Serv.Part XRS-Box Xynergy\n",
            "   - **HSNCode:** 90229090\n",
            "   - **Quantity:** 1\n",
            "   - **Rate:** 5,139.88 USD\n",
            "   - **Amount:** 446,844.83 INR\n",
            "2. \n",
            "   - **ItemDesc:** Horizontal cables(Vario and Vector)\n",
            "   - **HSNCode:** 85444999\n",
            "   - **Quantity:** 1\n",
            "   - **Rate:** 413.98 USD\n",
            "   - **Amount:** 36,099.69 INR\n",
            "3. \n",
            "   - **ItemDesc:** Light barrier set(vertical)\n",
            "   - **HSNCode:** 90229090\n",
            "   - **Quantity:** 1\n",
            "   - **Rate:** 68.86 USD\n",
            "   - **Amount:** 6,004.73 INR\n",
            "4. \n",
            "   - **ItemDesc:** P-path sensor\n",
            "   - **HSNCode:** 90318000\n",
            "   - **Quantity:** 1\n",
            "   - **Rate:** 369.30 USD\n",
            "   - **Amount:** 32,203.49 INR\n",
            "5. \n",
            "   - **ItemDesc:** DAFID - Adapter\n",
            "   - **HSNCode:** 85366990\n",
            "   - **Quantity:** 1\n",
            "   - **Rate:** 108.21 USD\n",
            "   - **Amount:** 9,436.08 INR\n",
            "6. \n",
            "   - **ItemDesc:** CH5-2 Curved Array Transducer\n",
            "   - **HSNCode:** 90189019\n",
            "   - **Quantity:** 1\n",
            "   - **Rate:** 905.83 USD\n",
            "   - **Amount:** 78,749.96 INR\n",
            "7. \n",
            "   - **ItemDesc:** 10MC3 Transducer (DL260)\n",
            "   - **HSNCode:** 90189019\n",
            "   - **Quantity:** 1\n",
            "   - **Rate:** 471.36 USD\n",
            "   - **Amount:** 40,978.52 INR\n",
            "8. \n",
            "   - **ItemDesc:** FRU DRAW WIRE ENCODER\n",
            "   - **HSNCode:** 90318000\n",
            "   - **Quantity:** 1\n",
            "   - **Rate:** 448.38 USD\n",
            "   - **Amount:** 39,099.40 INR\n",
            "9. \n",
            "   - **ItemDesc:** ID-board spare part kit\n",
            "   - **HSNCode:** 85371090\n",
            "   - **Quantity:** 1\n",
            "   - **Rate:** 5.00 USD\n",
            "   - **Amount:** 434.70 INR\n",
            "10. \n",
            "   - **ItemDesc:** Belt tension tool\n",
            "   - **HSNCode:** 73269099\n",
            "   - **Quantity:** 1\n",
            "   - **Rate:** 39.36 USD\n",
            "   - **Amount:** 3,432.29 INR\n",
            "11. \n",
            "   - **ItemDesc:** AC-DC IN265V OUT24V/8V/7.5V/15V\n",
            "   - **HSNCode:** 85044090\n",
            "   - **Quantity:** 1\n",
            "   - **Rate:** 5.00 USD\n",
            "   - **Amount:** 434.62 INR\n",
            "12. \n",
            "   - **ItemDesc:** Service Part aCTivate GBOX LP\n",
            "   - **HSNCode:** 90229090\n",
            "   - **Quantity:** 1\n",
            "   - **Rate:** 8,509.08 USD\n",
            "   - **Amount:** 739,752.28 INR\n",
            "13. \n",
            "   - **ItemDesc:** Brushblock LP service part\n",
            "   - **HSNCode:** 85369090\n",
            "   - **Quantity:** 1\n",
            "   - **Rate:** 451.02 USD\n",
            "   - **Amount:** 39,210.26 INR\n",
            "14. \n",
            "   - **ItemDesc:** DURA 202-MV\n",
            "   - **HSNCode:** 90223000\n",
            "   - **Quantity:** 1\n",
            "   - **Rate:** 561.05 USD\n",
            "   - **Amount:** 48,924.40 INR\n",
            "\n",
            "Additionally, there are more items listed:\n",
            "1. \n",
            "   - **ItemDesc:** Body 18 MR Coil 3T\n",
            "   - **HSNCode:** 90189019\n",
            "   - **Quantity:** 1\n",
            "   - **Rate:** 2,495.77 USD\n",
            "   - **Amount:** 2,495.77 USD\n",
            "2. \n",
            "   - **ItemDesc:** Body 18 MR Coil 3T\n",
            "   - **HSNCode:** 90189019\n",
            "   - **Quantity:** 1\n",
            "   - **Rate:** 2,495.77 USD\n",
            "   - **Amount:** 2,495.77 USD\n",
            "3. \n",
            "   - **ItemDesc:** Body Matrix coil\n",
            "   - **HSNCode:** 9017145763\n",
            "   - **Quantity:** 1\n",
            "   - **Rate:** 1,423.78 USD\n",
            "   - **Amount:** 1,423.78 USD\n",
            "4. \n",
            "   - **ItemDesc:** ConBox2G - Component\n",
            "   - **HSNCode:** 9017145757\n",
            "   - **Quantity:** 1\n",
            "   - **Rate:** 332.11 USD\n",
            "   - **Amount:** 332.11 USD\n",
            "5. \n",
            "   - **ItemDesc:** Transmit Antenna Level Sensor\n",
            "   - **HSNCode:** 9017145805\n",
            "   - **Quantity:** 1\n",
            "   - **Rate:** 340.31 USD\n",
            "   - **Amount:** 340.31 USD\n",
            "6. \n",
            "   - **ItemDesc:** Drive.DVD-Rec. SATA 8x Slim\n",
            "   - **HSNCode:** 84717090\n",
            "   - **Quantity:** 1\n",
            "   - **Rate:** 5.00 USD\n",
            "   - **Amount:** 5.00 USD\n",
            "7. \n",
            "   - **ItemDesc:** Freq. Inverter 1.7kVA\n",
            "   - **HSNCode:** 85044010\n",
            "   - **Quantity:** 1\n",
            "   - **Rate:** 15.99 USD\n",
            "   - **Amount:** 15.99 USD\n",
            "8. \n",
            "   - **ItemDesc:** pressure switch 24bar\n",
            "   - **HSNCode:** 85365090\n",
            "   - **Quantity:** 1\n",
            "   - **Rate:** 120.14 USD\n",
            "   - **Amount:** 120.14 USD\n",
            "9. \n",
            "   - **ItemDesc:** TCB G2 partially assembly with SDN\n",
            "   - **HSNCode:** 90229090\n",
            "   - **Quantity:** 1\n",
            "   - **Rate:** 147.61 USD\n",
            "   - **Amount:** 147.61 USD\n",
            "10. \n",
            "   - **ItemDesc:** Service Part aCTivate D500 CBG\n",
            "   - **HSNCode:** 90229090\n",
            "   - **Quantity:** 1\n",
            "   - **Rate:** 464.55 USD\n",
            "   - **Amount:** 464.55 USD\n",
            "\n",
            "And many more items... \n",
            "\n",
            "Note: The provided text seems to be a combination of multiple invoices or shipments. The above summary provides a general idea of the invoice details and the first set of items. \n",
            "\n",
            "Also, note that there are many items listed, and the provided text seems to be a combination of multiple invoices or shipments. The above summary provides a general idea of the invoice details and the first set of items. \n",
            "\n",
            "To provide a complete list of all items, it would be necessary to include all the items from the provided text, which is quite extensive. The above summary provides a general idea of the invoice details and the first set of items. \n",
            "\n",
            "If you need the complete list of all items, please let me know, and I can provide the extended list.\n"
          ]
        }
      ],
      "source": [
        "response = summary_query_engine.query(\n",
        "    \"Summarize and extract key invoice details such as InvoiceNo, InvoiceDate, BuyerName, ExporterName, ConsigneeName and address, PortOfDischarge, Currency, and InvoiceValue/amount changeable  from the Header section. \"\n",
        "    \"Also, list each item's ItemDesc, HSNCode, Quantity, Rate, and Amount from the ItemsDetails section.\"\n",
        ")\n",
        "print(response)\n"
      ]
    },
    {
      "cell_type": "code",
      "execution_count": 57,
      "id": "04a8114b-db0d-4def-a29c-797fd2edfa74",
      "metadata": {
        "id": "04a8114b-db0d-4def-a29c-797fd2edfa74"
      },
      "outputs": [],
      "source": [
        "# storing the document summary index\n",
        "summary_index.storage_context.persist(\"doc_summary_index\")"
      ]
    },
    {
      "cell_type": "code",
      "execution_count": null,
      "id": "5cf4c5fa-f73b-4975-9674-d5d7b71fe29e",
      "metadata": {
        "id": "5cf4c5fa-f73b-4975-9674-d5d7b71fe29e"
      },
      "outputs": [],
      "source": []
    }
  ],
  "metadata": {
    "kernelspec": {
      "display_name": "Python 3 (ipykernel)",
      "language": "python",
      "name": "python3"
    },
    "language_info": {
      "codemirror_mode": {
        "name": "ipython",
        "version": 3
      },
      "file_extension": ".py",
      "mimetype": "text/x-python",
      "name": "python",
      "nbconvert_exporter": "python",
      "pygments_lexer": "ipython3",
      "version": "3.10.12"
    },
    "colab": {
      "provenance": [],
      "include_colab_link": true
    }
  },
  "nbformat": 4,
  "nbformat_minor": 5
}